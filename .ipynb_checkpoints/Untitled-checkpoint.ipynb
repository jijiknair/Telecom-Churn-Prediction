{
 "cells": [
  {
   "cell_type": "code",
   "execution_count": null,
   "id": "645cf27b-240e-4c2b-a955-3a7b2b6e3d86",
   "metadata": {},
   "outputs": [],
   "source": []
  }
 ],
 "metadata": {
  "kernelspec": {
   "display_name": "",
   "name": ""
  },
  "language_info": {
   "name": ""
  }
 },
 "nbformat": 4,
 "nbformat_minor": 5
}
